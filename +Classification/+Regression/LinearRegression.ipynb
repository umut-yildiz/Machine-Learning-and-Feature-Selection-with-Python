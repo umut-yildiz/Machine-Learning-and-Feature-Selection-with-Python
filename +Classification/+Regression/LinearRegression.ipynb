{
 "cells": [
  {
   "cell_type": "code",
   "execution_count": null,
   "id": "ff7e106e-cb0e-48dc-868c-ff8b7dd41a78",
   "metadata": {},
   "outputs": [],
   "source": [
    "# Linear Regression"
   ]
  },
  {
   "cell_type": "code",
   "execution_count": null,
   "id": "c6219156-2604-4f63-b3fe-3346a3a1e966",
   "metadata": {},
   "outputs": [],
   "source": [
    "# Importing Libraries\n",
    "from sklearn.model_selection import train_test_split\n",
    "from sklearn.metrics import classification_report, confusion_matrix\n",
    "from sklearn import metrics\n",
    "import pandas as pd\n",
    "import numpy as np\n",
    "from sklearn import model_selection\n",
    "from sklearn.linear_model import LinearRegression\n",
    "from sklearn.metrics import confusion_matrix,accuracy_score\n",
    "from sklearn import metrics"
   ]
  },
  {
   "cell_type": "code",
   "execution_count": null,
   "id": "8691f38c-f683-464a-bde2-3cb2e4c3787b",
   "metadata": {},
   "outputs": [],
   "source": [
    "# Data Preparation\n",
    "training = pd.read_excel (r'C:\\Users\\Yildiz\\Repos\\MATLAB\\pythonexample.xlsx')\n",
    "X = training.iloc[:,0:20]\n",
    "y = training.iloc[:,-1]"
   ]
  },
  {
   "cell_type": "code",
   "execution_count": null,
   "id": "d0c6d1aa-2f62-4abf-8895-f29eb4f1f68e",
   "metadata": {},
   "outputs": [],
   "source": [
    "X_train, X_test, y_train, y_test = train_test_split(X, y, test_size=0.4,random_state=109) # 60% training and 30% test"
   ]
  },
  {
   "cell_type": "code",
   "execution_count": null,
   "id": "3a186674-d3f8-493c-81e6-d061924d6ff8",
   "metadata": {},
   "outputs": [],
   "source": [
    "lr = LinearRegression()\n",
    "lr.fit(X_train, y_train)"
   ]
  },
  {
   "cell_type": "code",
   "execution_count": null,
   "id": "2df29ac6-8d41-4ebe-8d6c-12ce442fcb7c",
   "metadata": {},
   "outputs": [],
   "source": [
    "LinearRegression(copy_X=True, fit_intercept=True, n_jobs=1, normalize=False)"
   ]
  },
  {
   "cell_type": "code",
   "execution_count": 16,
   "id": "a10cff8e-1442-44d4-bc75-3d04d10616ef",
   "metadata": {},
   "outputs": [
    {
     "data": {
      "text/plain": [
       "array([ 0.80750058,  0.25717243,  0.15725054,  1.00279419,  0.23709975,\n",
       "       -0.1094662 ,  0.64038758,  0.62663585,  0.43039862,  1.47839027,\n",
       "        0.85344075, -0.02827683,  0.75708261, -0.02108255, -0.40424668,\n",
       "        0.08830572,  0.04495012,  0.13776549, -0.21374403,  0.4688558 ,\n",
       "        0.29598726, -0.05938456,  1.40301388,  1.61601917])"
      ]
     },
     "execution_count": 16,
     "metadata": {},
     "output_type": "execute_result"
    }
   ],
   "source": [
    "y_pred = lr.predict(X_test)\n",
    "y_pred"
   ]
  },
  {
   "cell_type": "code",
   "execution_count": null,
   "id": "8fcc9671-56e7-4c01-9778-3e7d4b29943a",
   "metadata": {},
   "outputs": [],
   "source": []
  }
 ],
 "metadata": {
  "kernelspec": {
   "display_name": "Python 3",
   "language": "python",
   "name": "python3"
  },
  "language_info": {
   "codemirror_mode": {
    "name": "ipython",
    "version": 3
   },
   "file_extension": ".py",
   "mimetype": "text/x-python",
   "name": "python",
   "nbconvert_exporter": "python",
   "pygments_lexer": "ipython3",
   "version": "3.8.8"
  }
 },
 "nbformat": 4,
 "nbformat_minor": 5
}

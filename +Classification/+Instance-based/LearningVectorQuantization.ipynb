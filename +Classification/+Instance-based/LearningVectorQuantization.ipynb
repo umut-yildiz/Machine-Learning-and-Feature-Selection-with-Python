{
 "cells": [
  {
   "cell_type": "code",
   "execution_count": 11,
   "id": "0a363df2-637c-4304-8e20-4319c4706341",
   "metadata": {},
   "outputs": [],
   "source": [
    "# Learning Vector Quantization (LVQ)"
   ]
  },
  {
   "cell_type": "code",
   "execution_count": 11,
   "id": "b6fd33f8-48c5-4c99-9355-fa404f8b5a79",
   "metadata": {},
   "outputs": [],
   "source": [
    "# Installization\n",
    "pip install neupy\n",
    "conda install m2w64-toolchain"
   ]
  },
  {
   "cell_type": "code",
   "execution_count": 41,
   "id": "c350ad6e-4341-40b8-af8c-5af6538b9f71",
   "metadata": {},
   "outputs": [],
   "source": [
    "# Importing Libraries\n",
    "import numpy as np\n",
    "from neupy import algorithms\n",
    "from sklearn.model_selection import train_test_split\n",
    "from sklearn.metrics import confusion_matrix,accuracy_score\n",
    "import seaborn as sb\n",
    "from sklearn import metrics\n",
    "from sklearn.metrics import classification_report, confusion_matrix"
   ]
  },
  {
   "cell_type": "code",
   "execution_count": 30,
   "id": "5da13b9f-0b4a-43d0-8881-b5717ffe1fc2",
   "metadata": {},
   "outputs": [],
   "source": [
    "# Data Preparation\n",
    "training = pd.read_excel (r'C:\\Users\\Yildiz\\Repos\\MATLAB\\pythonexample.xlsx')\n",
    "X = training.iloc[:,0:20]\n",
    "y = training.iloc[:,-1]"
   ]
  },
  {
   "cell_type": "code",
   "execution_count": 31,
   "id": "d0b996ee-b791-4664-ba5a-5c693e925fc9",
   "metadata": {},
   "outputs": [],
   "source": [
    "X_train, X_test, y_train, y_test = train_test_split(X, y, test_size=0.4,random_state=109) # 60% training and 30% test"
   ]
  },
  {
   "cell_type": "code",
   "execution_count": 32,
   "id": "061b9a26-efe4-419e-a3f3-b077cd663461",
   "metadata": {},
   "outputs": [],
   "source": [
    "lvqnet = algorithms.LVQ(n_inputs=2, n_classes=2)\n",
    "lvqnet.train(X_train, y_train, epochs=100)\n",
    "y_pred = lvqnet.predict(X_test)"
   ]
  },
  {
   "cell_type": "code",
   "execution_count": 37,
   "id": "301f9a89-bf3c-4fd9-8186-4109a4ac99b5",
   "metadata": {},
   "outputs": [
    {
     "name": "stdout",
     "output_type": "stream",
     "text": [
      "Accuracy: 0.8333333333333334\n"
     ]
    }
   ],
   "source": [
    "print(\"Accuracy:\",metrics.accuracy_score(y_test, y_pred))"
   ]
  },
  {
   "cell_type": "code",
   "execution_count": 38,
   "id": "b776eaeb-bdb3-4c9e-bfdc-0e25045301de",
   "metadata": {},
   "outputs": [
    {
     "name": "stdout",
     "output_type": "stream",
     "text": [
      "Precision: 1.0\n"
     ]
    }
   ],
   "source": [
    "print(\"Precision:\",metrics.precision_score(y_test, y_pred))"
   ]
  },
  {
   "cell_type": "code",
   "execution_count": 39,
   "id": "43d36c7b-5bf9-4972-9945-7642f6e64b32",
   "metadata": {},
   "outputs": [
    {
     "name": "stdout",
     "output_type": "stream",
     "text": [
      "Recall: 0.7142857142857143\n"
     ]
    }
   ],
   "source": [
    "print(\"Recall:\",metrics.recall_score(y_test, y_pred))"
   ]
  },
  {
   "cell_type": "code",
   "execution_count": 43,
   "id": "cb81168b-fbef-49e7-8fa9-a3f86d598a54",
   "metadata": {},
   "outputs": [
    {
     "name": "stdout",
     "output_type": "stream",
     "text": [
      "              precision    recall  f1-score   support\n",
      "\n",
      "           0       0.71      1.00      0.83        10\n",
      "           1       1.00      0.71      0.83        14\n",
      "\n",
      "    accuracy                           0.83        24\n",
      "   macro avg       0.86      0.86      0.83        24\n",
      "weighted avg       0.88      0.83      0.83        24\n",
      "\n"
     ]
    }
   ],
   "source": [
    "print(classification_report(y_test, y_pred))"
   ]
  },
  {
   "cell_type": "code",
   "execution_count": 27,
   "id": "53af9cfa-5ee3-4a5c-b2c9-925f4b0dbbf6",
   "metadata": {},
   "outputs": [
    {
     "data": {
      "image/png": "[encoded data removed]",
      "text/plain": [
       "<Figure size 432x288 with 2 Axes>"
      ]
     },
     "metadata": {},
     "output_type": "display_data"
    }
   ],
   "source": [
    "# Confusion Matrix\n",
    "cm = confusion_matrix(y_test, y_pred)\n",
    "sb.set(font_scale=2)\n",
    "heat_map = sb.heatmap(cm, annot=True)\n",
    "plt.ylabel('Actual')\n",
    "plt.xlabel('Prediction')\n",
    "plt.show()"
   ]
  },
  {
   "cell_type": "code",
   "execution_count": null,
   "id": "5f951a08-67e8-443c-98c8-3d31c950e705",
   "metadata": {},
   "outputs": [],
   "source": []
  }
 ],
 "metadata": {
  "kernelspec": {
   "display_name": "Python 3",
   "language": "python",
   "name": "python3"
  },
  "language_info": {
   "codemirror_mode": {
    "name": "ipython",
    "version": 3
   },
   "file_extension": ".py",
   "mimetype": "text/x-python",
   "name": "python",
   "nbconvert_exporter": "python",
   "pygments_lexer": "ipython3",
   "version": "3.8.8"
  }
 },
 "nbformat": 4,
 "nbformat_minor": 5
}

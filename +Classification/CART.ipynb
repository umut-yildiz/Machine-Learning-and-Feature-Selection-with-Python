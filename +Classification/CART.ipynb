{
 "cells": [
  {
   "cell_type": "code",
   "execution_count": null,
   "id": "3b0a2833-8375-4687-a997-5167a1961ad9",
   "metadata": {},
   "outputs": [],
   "source": [
    "# CART"
   ]
  },
  {
   "cell_type": "code",
   "execution_count": null,
   "id": "26fd1580-e0e6-4029-981f-3f75a231203c",
   "metadata": {},
   "outputs": [],
   "source": [
    "pip install chefboost"
   ]
  },
  {
   "cell_type": "code",
   "execution_count": null,
   "id": "f3cf90a8-c072-48e5-a074-fd0271321c37",
   "metadata": {},
   "outputs": [],
   "source": [
    "from chefboost import Chefboost as chef\n",
    "import pandas as pd\n",
    "from sklearn.model_selection import train_test_split\n",
    "from sklearn.tree import DecisionTreeClassifier, export_graphviz\n",
    "from sklearn.externals.six import StringIO\n",
    "from IPython.display import Image, display\n",
    "import pydotplus"
   ]
  },
  {
   "cell_type": "code",
   "execution_count": null,
   "id": "cec626cc-8f9f-4b9d-abe7-61a7bf481969",
   "metadata": {},
   "outputs": [],
   "source": [
    "# Data Preparation\n",
    "training = pd.read_excel (r'C:\\Users\\Yildiz\\Repos\\MATLAB\\pythonexample.xlsx')\n",
    "training = training.rename(columns={'Target':'Decision'})\n",
    "training['Decision'] = training['Decision'].replace([0],'No')\n",
    "training['Decision'] = training['Decision'].replace([1],'Yes')\n",
    "X = training.iloc[:,0:20]\n",
    "y = training.iloc[:,-1]"
   ]
  },
  {
   "cell_type": "code",
   "execution_count": null,
   "id": "9946ac37-8528-4c60-8fec-3ad6482c1df5",
   "metadata": {},
   "outputs": [],
   "source": [
    "config = {'algorithm':'CART'}\n",
    "model = chef.fit(training.copy(),config)"
   ]
  },
  {
   "cell_type": "code",
   "execution_count": null,
   "id": "edd47958-817b-4f61-993f-036a974ee030",
   "metadata": {},
   "outputs": [],
   "source": [
    "test_instance = training.iloc[1]\n",
    "chef.predict(model,test_instance)"
   ]
  },
  {
   "cell_type": "code",
   "execution_count": null,
   "id": "8e183f85-ddec-45f6-9317-d57475e3e237",
   "metadata": {},
   "outputs": [],
   "source": []
  }
 ],
 "metadata": {
  "kernelspec": {
   "display_name": "Python 3",
   "language": "python",
   "name": "python3"
  },
  "language_info": {
   "codemirror_mode": {
    "name": "ipython",
    "version": 3
   },
   "file_extension": ".py",
   "mimetype": "text/x-python",
   "name": "python",
   "nbconvert_exporter": "python",
   "pygments_lexer": "ipython3",
   "version": "3.8.8"
  }
 },
 "nbformat": 4,
 "nbformat_minor": 5
}

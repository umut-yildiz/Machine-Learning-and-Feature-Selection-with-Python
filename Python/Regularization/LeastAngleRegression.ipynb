{
 "cells": [
  {
   "cell_type": "code",
   "execution_count": 16,
   "id": "8eb33512-37ca-49d9-bc5b-d6273f812acb",
   "metadata": {},
   "outputs": [],
   "source": [
    "# Least Angle Regression"
   ]
  },
  {
   "cell_type": "code",
   "execution_count": 17,
   "id": "ad6868fa-1d31-4261-b1b4-8158bcaed54c",
   "metadata": {},
   "outputs": [],
   "source": [
    "# Importing Libraries\n",
    "from sklearn import linear_model\n",
    "from sklearn.datasets import load_boston\n",
    "from sklearn.model_selection import train_test_split\n",
    "from sklearn.metrics import mean_squared_error\n",
    "import matplotlib.pyplot as plt\n",
    "from numpy import sqrt\n",
    "import pandas as pd\n",
    "from sklearn.model_selection import train_test_split"
   ]
  },
  {
   "cell_type": "code",
   "execution_count": 18,
   "id": "bebb662e-5f1f-431e-b497-b46fb5a66d10",
   "metadata": {},
   "outputs": [],
   "source": [
    "# Data Preparation\n",
    "training = pd.read_excel (r'C:\\Users\\Yildiz\\Repos\\MATLAB\\pythonexample.xlsx')\n",
    "X = training.iloc[:,0:20]\n",
    "y = training.iloc[:,-1]"
   ]
  },
  {
   "cell_type": "code",
   "execution_count": 19,
   "id": "50ded5fd-db2a-4c6c-9052-56a83423c4e1",
   "metadata": {},
   "outputs": [],
   "source": [
    "X_train, X_test, y_train, y_test = train_test_split(X, y, test_size=0.4,random_state=109) # 60% training and 30% test"
   ]
  },
  {
   "cell_type": "code",
   "execution_count": 20,
   "id": "d38a36df-799f-48dc-b6ea-8172a8dbea33",
   "metadata": {},
   "outputs": [],
   "source": [
    "lars = linear_model.Lars().fit(X_train, y_train)"
   ]
  },
  {
   "cell_type": "code",
   "execution_count": 21,
   "id": "0cab4c3a-6ef1-4eec-8183-ad553c678727",
   "metadata": {},
   "outputs": [
    {
     "data": {
      "text/plain": [
       "array([ 0.9435545 ,  0.54324946,  0.15210046,  1.51890232,  0.09164975,\n",
       "        0.79334261,  2.64989008,  0.8358428 , -0.03786162,  1.89443435,\n",
       "        2.72112133,  0.19271244,  0.58354799,  1.15248642,  0.10587435,\n",
       "        0.25740331, -0.43888277,  0.93260797, -0.81761233,  0.82289463,\n",
       "        1.35031083,  0.12841639,  2.29102204,  0.74373464])"
      ]
     },
     "execution_count": 21,
     "metadata": {},
     "output_type": "execute_result"
    }
   ],
   "source": [
    "lars.predict(X_test)"
   ]
  },
  {
   "cell_type": "code",
   "execution_count": null,
   "id": "90752e88-4e10-4f50-83c5-d7ebe30ebc6f",
   "metadata": {},
   "outputs": [],
   "source": []
  }
 ],
 "metadata": {
  "kernelspec": {
   "display_name": "Python 3",
   "language": "python",
   "name": "python3"
  },
  "language_info": {
   "codemirror_mode": {
    "name": "ipython",
    "version": 3
   },
   "file_extension": ".py",
   "mimetype": "text/x-python",
   "name": "python",
   "nbconvert_exporter": "python",
   "pygments_lexer": "ipython3",
   "version": "3.8.8"
  }
 },
 "nbformat": 4,
 "nbformat_minor": 5
}

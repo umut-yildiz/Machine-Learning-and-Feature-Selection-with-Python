{
 "cells": [
  {
   "cell_type": "code",
   "execution_count": null,
   "id": "9236dcb9-8ef1-4910-885a-603d18311b93",
   "metadata": {},
   "outputs": [],
   "source": [
    "# GMM"
   ]
  },
  {
   "cell_type": "code",
   "execution_count": 138,
   "id": "61c062bd-d399-42db-a4aa-1c1dbe1edc56",
   "metadata": {},
   "outputs": [],
   "source": [
    "# Importing Libraries\n",
    "import numpy as np\n",
    "import matplotlib.pyplot as plt\n",
    "import pandas as pd \n",
    "from sklearn.mixture import GaussianMixture\n",
    "from sklearn.metrics import confusion_matrix,accuracy_score\n",
    "import seaborn as sb\n",
    "from sklearn.metrics import classification_report, confusion_matrix\n",
    "from sklearn import metrics"
   ]
  },
  {
   "cell_type": "code",
   "execution_count": 139,
   "id": "f2589565-079c-4cb3-84d0-ae18553c7743",
   "metadata": {},
   "outputs": [],
   "source": [
    "# Data Preparation\n",
    "training = pd.read_excel (r'C:\\Users\\Yildiz\\Repos\\MATLAB\\pythonexample.xlsx')\n",
    "X = training.iloc[:,0:20]\n",
    "y = training.iloc[:,-1]"
   ]
  },
  {
   "cell_type": "code",
   "execution_count": 140,
   "id": "8b1e2d03-c010-4cac-8b6d-9e7a96492aa1",
   "metadata": {},
   "outputs": [
    {
     "data": {
      "text/plain": [
       "GaussianMixture(n_components=2)"
      ]
     },
     "execution_count": 140,
     "metadata": {},
     "output_type": "execute_result"
    }
   ],
   "source": [
    "gmm = GaussianMixture(n_components=2)\n",
    "gmm.fit(X)"
   ]
  },
  {
   "cell_type": "code",
   "execution_count": 141,
   "id": "34f0a6ef-a345-4457-b1eb-7ab8740c8c6a",
   "metadata": {},
   "outputs": [],
   "source": [
    "y_pred = gmm.predict(X)\n",
    "y_pred = y_pred+1\n",
    "y_pred[y_pred==2] = 0"
   ]
  },
  {
   "cell_type": "code",
   "execution_count": 142,
   "id": "8efb1665-2011-461e-97fb-77cfdefc68ca",
   "metadata": {},
   "outputs": [
    {
     "name": "stdout",
     "output_type": "stream",
     "text": [
      "Accuracy: 0.8305084745762712\n"
     ]
    }
   ],
   "source": [
    "print(\"Accuracy:\",metrics.accuracy_score(y, y_pred))"
   ]
  },
  {
   "cell_type": "code",
   "execution_count": 143,
   "id": "4af93579-b0af-4004-9f5c-dab210faa1e7",
   "metadata": {},
   "outputs": [
    {
     "name": "stdout",
     "output_type": "stream",
     "text": [
      "Precision: 1.0\n"
     ]
    }
   ],
   "source": [
    "print(\"Precision:\",metrics.precision_score(y, y_pred))"
   ]
  },
  {
   "cell_type": "code",
   "execution_count": 144,
   "id": "42713efa-b484-408a-b23f-1a5cbe56534a",
   "metadata": {},
   "outputs": [
    {
     "name": "stdout",
     "output_type": "stream",
     "text": [
      "Recall: 0.6875\n"
     ]
    }
   ],
   "source": [
    "print(\"Recall:\",metrics.recall_score(y, y_pred))"
   ]
  },
  {
   "cell_type": "code",
   "execution_count": 145,
   "id": "52681d40-b966-443e-9d16-59230a64b797",
   "metadata": {},
   "outputs": [
    {
     "name": "stdout",
     "output_type": "stream",
     "text": [
      "              precision    recall  f1-score   support\n",
      "\n",
      "           0       0.73      1.00      0.84        27\n",
      "           1       1.00      0.69      0.81        32\n",
      "\n",
      "    accuracy                           0.83        59\n",
      "   macro avg       0.86      0.84      0.83        59\n",
      "weighted avg       0.88      0.83      0.83        59\n",
      "\n"
     ]
    }
   ],
   "source": [
    "print(classification_report(y, y_pred))"
   ]
  },
  {
   "cell_type": "code",
   "execution_count": 146,
   "id": "f0299ab4-e54a-403c-b7f9-c9052a7e8e00",
   "metadata": {},
   "outputs": [
    {
     "data": {
      "image/png": "[encoded data removed]",
      "text/plain": [
       "<Figure size 432x288 with 2 Axes>"
      ]
     },
     "metadata": {},
     "output_type": "display_data"
    }
   ],
   "source": [
    "# Confusion Matrix\n",
    "cm = confusion_matrix(y, y_pred)\n",
    "sb.set(font_scale=2)\n",
    "heat_map = sb.heatmap(cm, annot=True)\n",
    "plt.ylabel('Actual')\n",
    "plt.xlabel('Prediction')\n",
    "plt.show()"
   ]
  },
  {
   "cell_type": "code",
   "execution_count": null,
   "id": "3f0ad491-7d63-46cd-a2a0-74d0153e379c",
   "metadata": {},
   "outputs": [],
   "source": []
  }
 ],
 "metadata": {
  "kernelspec": {
   "display_name": "Python 3",
   "language": "python",
   "name": "python3"
  },
  "language_info": {
   "codemirror_mode": {
    "name": "ipython",
    "version": 3
   },
   "file_extension": ".py",
   "mimetype": "text/x-python",
   "name": "python",
   "nbconvert_exporter": "python",
   "pygments_lexer": "ipython3",
   "version": "3.8.8"
  }
 },
 "nbformat": 4,
 "nbformat_minor": 5
}

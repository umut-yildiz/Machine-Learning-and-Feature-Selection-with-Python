{
 "cells": [
  {
   "cell_type": "code",
   "execution_count": null,
   "id": "74b56109-2624-4c68-8cc9-b2500963ab6f",
   "metadata": {},
   "outputs": [],
   "source": [
    "# Multivariate Adaptive Regression Splines (MARS)"
   ]
  },
  {
   "cell_type": "code",
   "execution_count": null,
   "id": "a207ca08-a290-494b-9533-28914fc3019d",
   "metadata": {},
   "outputs": [],
   "source": [
    "# Installization\n",
    "conda install -c conda-forge sklearn-contrib-py-earth"
   ]
  },
  {
   "cell_type": "code",
   "execution_count": 22,
   "id": "e718ce53-94f7-4768-a64d-16f136bb4b90",
   "metadata": {},
   "outputs": [],
   "source": [
    "# Importing Libraries\n",
    "import numpy\n",
    "from pyearth import Earth\n",
    "from matplotlib import pyplot\n",
    "import pandas as pd\n",
    "from sklearn.model_selection import train_test_split\n",
    "import pyearth\n",
    "from sklearn import metrics"
   ]
  },
  {
   "cell_type": "code",
   "execution_count": 23,
   "id": "11725361-f921-4249-9cc9-09028609b188",
   "metadata": {},
   "outputs": [],
   "source": [
    "# Data Preparation\n",
    "training = pd.read_excel (r'C:\\Users\\Yildiz\\Repos\\MATLAB\\pythonexample.xlsx')\n",
    "X = training.iloc[:,0:20]\n",
    "y = training.iloc[:,-1]"
   ]
  },
  {
   "cell_type": "code",
   "execution_count": 24,
   "id": "ff1273f6-3594-40b6-b0f3-27436616e885",
   "metadata": {},
   "outputs": [],
   "source": [
    "X_train, X_test, y_train, y_test = train_test_split(X, y, test_size=0.4,random_state=109) # 60% training and 30% test"
   ]
  },
  {
   "cell_type": "code",
   "execution_count": 25,
   "id": "be90b7bb-2ac9-46d9-b22c-140435acd767",
   "metadata": {},
   "outputs": [],
   "source": [
    "model = Earth()"
   ]
  },
  {
   "cell_type": "code",
   "execution_count": null,
   "id": "81029656-a4e2-4dfa-896c-bd1b302c5d8d",
   "metadata": {},
   "outputs": [],
   "source": [
    "model.fit(X_train,y_train)"
   ]
  },
  {
   "cell_type": "code",
   "execution_count": 27,
   "id": "11e1159e-0ac2-4531-b8a7-55b72e377cc0",
   "metadata": {},
   "outputs": [],
   "source": [
    "y_pred = model.predict(X_test)\n",
    "y_pred"
   ]
  },
  {
   "cell_type": "code",
   "execution_count": 28,
   "id": "80bbab06-7883-40c9-8c64-70134919bb8f",
   "metadata": {},
   "outputs": [
    {
     "name": "stdout",
     "output_type": "stream",
     "text": [
      "Earth Model\n",
      "---------------------------------------------\n",
      "Basis Function          Pruned  Coefficient  \n",
      "---------------------------------------------\n",
      "(Intercept)             No      1.10858      \n",
      "h(Feature 1-6.69588)    Yes     None         \n",
      "h(6.69588-Feature 1)    No      -0.122875    \n",
      "h(Feature 14-2.2219)    Yes     None         \n",
      "h(2.2219-Feature 14)    No      -0.207459    \n",
      "Feature 19              Yes     None         \n",
      "Feature 17              Yes     None         \n",
      "h(Feature 19-1.39934)   Yes     None         \n",
      "h(1.39934-Feature 19)   Yes     None         \n",
      "Feature 12              Yes     None         \n",
      "h(Feature 12-0.757442)  Yes     None         \n",
      "h(0.757442-Feature 12)  Yes     None         \n",
      "Feature 2               Yes     None         \n",
      "Feature 7               Yes     None         \n",
      "---------------------------------------------\n",
      "MSE: 0.0387, GCV: 0.0564, RSQ: 0.8450, GRSQ: 0.7869\n"
     ]
    }
   ],
   "source": [
    "print(model.summary())"
   ]
  },
  {
   "cell_type": "code",
   "execution_count": 29,
   "id": "285e7258-94c5-4053-bc26-1a81fdb32cc2",
   "metadata": {},
   "outputs": [
    {
     "data": {
      "image/png": "[encoded data removed]",
      "text/plain": [
       "<Figure size 432x288 with 1 Axes>"
      ]
     },
     "metadata": {
      "needs_background": "light"
     },
     "output_type": "display_data"
    }
   ],
   "source": [
    "pyplot.figure()\n",
    "pyplot.plot(X_train,y_train,'r.')\n",
    "pyplot.plot(X_test,y_pred,'b.')\n",
    "pyplot.xlabel('x')\n",
    "pyplot.ylabel('y')\n",
    "pyplot.title('Simple Earth Example')\n",
    "pyplot.show()"
   ]
  },
  {
   "cell_type": "code",
   "execution_count": null,
   "id": "58f7779b-ae76-48b6-b861-5423a1cfa0ae",
   "metadata": {},
   "outputs": [],
   "source": []
  }
 ],
 "metadata": {
  "kernelspec": {
   "display_name": "Python 3",
   "language": "python",
   "name": "python3"
  },
  "language_info": {
   "codemirror_mode": {
    "name": "ipython",
    "version": 3
   },
   "file_extension": ".py",
   "mimetype": "text/x-python",
   "name": "python",
   "nbconvert_exporter": "python",
   "pygments_lexer": "ipython3",
   "version": "3.8.8"
  }
 },
 "nbformat": 4,
 "nbformat_minor": 5
}

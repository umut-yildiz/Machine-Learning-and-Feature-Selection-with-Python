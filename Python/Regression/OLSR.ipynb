{
 "cells": [
  {
   "cell_type": "code",
   "execution_count": 1,
   "id": "4c3a5572-2bf4-4d1f-9a91-fbe860f61791",
   "metadata": {},
   "outputs": [],
   "source": [
    "# Ordinary Least Squares Regression (OLSR)"
   ]
  },
  {
   "cell_type": "code",
   "execution_count": 19,
   "id": "7f427bbb-2b64-44b7-b1ed-d5b6132d538d",
   "metadata": {},
   "outputs": [],
   "source": [
    "import numpy as np\n",
    "import pandas as pd\n",
    "import statsmodels.api as sm\n",
    "import matplotlib.pyplot as plt"
   ]
  },
  {
   "cell_type": "code",
   "execution_count": 20,
   "id": "0a320415-d198-4c5b-a481-06bf315d83dc",
   "metadata": {},
   "outputs": [],
   "source": [
    "# Data Preparation\n",
    "training = pd.read_excel (r'C:\\Users\\Yildiz\\Repos\\MATLAB\\pythonexample.xlsx')\n",
    "X = training.iloc[:,0:20]\n",
    "y = training.iloc[:,-1]"
   ]
  },
  {
   "cell_type": "code",
   "execution_count": null,
   "id": "6fa8a2ac-0ffe-42bd-bf6c-824d3c094a65",
   "metadata": {},
   "outputs": [],
   "source": [
    "X = sm.add_constant(X)  # Adds a constant term to the predictor"
   ]
  },
  {
   "cell_type": "code",
   "execution_count": 13,
   "id": "c0ad1845-276d-4b63-8ac9-26dae529fc9e",
   "metadata": {},
   "outputs": [
    {
     "data": {
      "text/plain": [
       "<statsmodels.regression.linear_model.OLS at 0x2b48c9e9fa0>"
      ]
     },
     "execution_count": 13,
     "metadata": {},
     "output_type": "execute_result"
    }
   ],
   "source": [
    "est=sm.OLS(y, X)\n",
    "est"
   ]
  },
  {
   "cell_type": "code",
   "execution_count": 14,
   "id": "15023b4d-55c5-44b3-956a-bc1048006f25",
   "metadata": {},
   "outputs": [
    {
     "data": {
      "text/html": [
       "<table class=\"simpletable\">\n",
       "<caption>OLS Regression Results</caption>\n",
       "<tr>\n",
       "  <th>Dep. Variable:</th>         <td>Target</td>      <th>  R-squared:         </th> <td>   0.766</td>\n",
       "</tr>\n",
       "<tr>\n",
       "  <th>Model:</th>                   <td>OLS</td>       <th>  Adj. R-squared:    </th> <td>   0.642</td>\n",
       "</tr>\n",
       "<tr>\n",
       "  <th>Method:</th>             <td>Least Squares</td>  <th>  F-statistic:       </th> <td>   6.211</td>\n",
       "</tr>\n",
       "<tr>\n",
       "  <th>Date:</th>             <td>Tue, 23 Nov 2021</td> <th>  Prob (F-statistic):</th> <td>7.64e-07</td>\n",
       "</tr>\n",
       "<tr>\n",
       "  <th>Time:</th>                 <td>11:21:07</td>     <th>  Log-Likelihood:    </th> <td> 0.20573</td>\n",
       "</tr>\n",
       "<tr>\n",
       "  <th>No. Observations:</th>      <td>    59</td>      <th>  AIC:               </th> <td>   41.59</td>\n",
       "</tr>\n",
       "<tr>\n",
       "  <th>Df Residuals:</th>          <td>    38</td>      <th>  BIC:               </th> <td>   85.22</td>\n",
       "</tr>\n",
       "<tr>\n",
       "  <th>Df Model:</th>              <td>    20</td>      <th>                     </th>     <td> </td>   \n",
       "</tr>\n",
       "<tr>\n",
       "  <th>Covariance Type:</th>      <td>nonrobust</td>    <th>                     </th>     <td> </td>   \n",
       "</tr>\n",
       "</table>\n",
       "<table class=\"simpletable\">\n",
       "<tr>\n",
       "       <td></td>         <th>coef</th>     <th>std err</th>      <th>t</th>      <th>P>|t|</th>  <th>[0.025</th>    <th>0.975]</th>  \n",
       "</tr>\n",
       "<tr>\n",
       "  <th>const</th>      <td>    0.0451</td> <td>    0.176</td> <td>    0.257</td> <td> 0.799</td> <td>   -0.310</td> <td>    0.401</td>\n",
       "</tr>\n",
       "<tr>\n",
       "  <th>Feature 1</th>  <td>    0.0815</td> <td>    0.026</td> <td>    3.151</td> <td> 0.003</td> <td>    0.029</td> <td>    0.134</td>\n",
       "</tr>\n",
       "<tr>\n",
       "  <th>Feature 2</th>  <td>   -0.0271</td> <td>    0.072</td> <td>   -0.374</td> <td> 0.711</td> <td>   -0.174</td> <td>    0.119</td>\n",
       "</tr>\n",
       "<tr>\n",
       "  <th>Feature 3</th>  <td>   -0.0168</td> <td>    0.080</td> <td>   -0.210</td> <td> 0.835</td> <td>   -0.179</td> <td>    0.146</td>\n",
       "</tr>\n",
       "<tr>\n",
       "  <th>Feature 4</th>  <td>   -0.0322</td> <td>    0.049</td> <td>   -0.660</td> <td> 0.513</td> <td>   -0.131</td> <td>    0.067</td>\n",
       "</tr>\n",
       "<tr>\n",
       "  <th>Feature 5</th>  <td>   -0.0571</td> <td>    0.092</td> <td>   -0.621</td> <td> 0.538</td> <td>   -0.243</td> <td>    0.129</td>\n",
       "</tr>\n",
       "<tr>\n",
       "  <th>Feature 6</th>  <td>   -0.0294</td> <td>    0.065</td> <td>   -0.455</td> <td> 0.652</td> <td>   -0.160</td> <td>    0.101</td>\n",
       "</tr>\n",
       "<tr>\n",
       "  <th>Feature 7</th>  <td>   -0.0459</td> <td>    0.120</td> <td>   -0.383</td> <td> 0.704</td> <td>   -0.289</td> <td>    0.197</td>\n",
       "</tr>\n",
       "<tr>\n",
       "  <th>Feature 8</th>  <td>   -0.0354</td> <td>    0.102</td> <td>   -0.349</td> <td> 0.729</td> <td>   -0.241</td> <td>    0.170</td>\n",
       "</tr>\n",
       "<tr>\n",
       "  <th>Feature 9</th>  <td>    0.0916</td> <td>    0.114</td> <td>    0.802</td> <td> 0.428</td> <td>   -0.140</td> <td>    0.323</td>\n",
       "</tr>\n",
       "<tr>\n",
       "  <th>Feature 10</th> <td>    0.0345</td> <td>    0.047</td> <td>    0.728</td> <td> 0.471</td> <td>   -0.061</td> <td>    0.130</td>\n",
       "</tr>\n",
       "<tr>\n",
       "  <th>Feature 11</th> <td>   -0.0872</td> <td>    0.068</td> <td>   -1.278</td> <td> 0.209</td> <td>   -0.225</td> <td>    0.051</td>\n",
       "</tr>\n",
       "<tr>\n",
       "  <th>Feature 12</th> <td>    0.0014</td> <td>    0.062</td> <td>    0.022</td> <td> 0.982</td> <td>   -0.124</td> <td>    0.127</td>\n",
       "</tr>\n",
       "<tr>\n",
       "  <th>Feature 13</th> <td>    0.0526</td> <td>    0.096</td> <td>    0.551</td> <td> 0.585</td> <td>   -0.141</td> <td>    0.246</td>\n",
       "</tr>\n",
       "<tr>\n",
       "  <th>Feature 14</th> <td>    0.0763</td> <td>    0.071</td> <td>    1.076</td> <td> 0.289</td> <td>   -0.067</td> <td>    0.220</td>\n",
       "</tr>\n",
       "<tr>\n",
       "  <th>Feature 15</th> <td>    0.0255</td> <td>    0.086</td> <td>    0.295</td> <td> 0.770</td> <td>   -0.150</td> <td>    0.201</td>\n",
       "</tr>\n",
       "<tr>\n",
       "  <th>Feature 16</th> <td>    0.0530</td> <td>    0.090</td> <td>    0.591</td> <td> 0.558</td> <td>   -0.128</td> <td>    0.235</td>\n",
       "</tr>\n",
       "<tr>\n",
       "  <th>Feature 17</th> <td>   -0.0608</td> <td>    0.124</td> <td>   -0.492</td> <td> 0.626</td> <td>   -0.311</td> <td>    0.190</td>\n",
       "</tr>\n",
       "<tr>\n",
       "  <th>Feature 18</th> <td>    0.0091</td> <td>    0.139</td> <td>    0.065</td> <td> 0.948</td> <td>   -0.273</td> <td>    0.291</td>\n",
       "</tr>\n",
       "<tr>\n",
       "  <th>Feature 19</th> <td>    0.0637</td> <td>    0.110</td> <td>    0.582</td> <td> 0.564</td> <td>   -0.158</td> <td>    0.286</td>\n",
       "</tr>\n",
       "<tr>\n",
       "  <th>Feature 20</th> <td>    0.0223</td> <td>    0.068</td> <td>    0.329</td> <td> 0.744</td> <td>   -0.115</td> <td>    0.159</td>\n",
       "</tr>\n",
       "</table>\n",
       "<table class=\"simpletable\">\n",
       "<tr>\n",
       "  <th>Omnibus:</th>       <td> 4.137</td> <th>  Durbin-Watson:     </th> <td>   1.814</td>\n",
       "</tr>\n",
       "<tr>\n",
       "  <th>Prob(Omnibus):</th> <td> 0.126</td> <th>  Jarque-Bera (JB):  </th> <td>   3.678</td>\n",
       "</tr>\n",
       "<tr>\n",
       "  <th>Skew:</th>          <td> 0.612</td> <th>  Prob(JB):          </th> <td>   0.159</td>\n",
       "</tr>\n",
       "<tr>\n",
       "  <th>Kurtosis:</th>      <td> 3.012</td> <th>  Cond. No.          </th> <td>    68.8</td>\n",
       "</tr>\n",
       "</table><br/><br/>Notes:<br/>[1] Standard Errors assume that the covariance matrix of the errors is correctly specified."
      ],
      "text/plain": [
       "<class 'statsmodels.iolib.summary.Summary'>\n",
       "\"\"\"\n",
       "                            OLS Regression Results                            \n",
       "==============================================================================\n",
       "Dep. Variable:                 Target   R-squared:                       0.766\n",
       "Model:                            OLS   Adj. R-squared:                  0.642\n",
       "Method:                 Least Squares   F-statistic:                     6.211\n",
       "Date:                Tue, 23 Nov 2021   Prob (F-statistic):           7.64e-07\n",
       "Time:                        11:21:07   Log-Likelihood:                0.20573\n",
       "No. Observations:                  59   AIC:                             41.59\n",
       "Df Residuals:                      38   BIC:                             85.22\n",
       "Df Model:                          20                                         \n",
       "Covariance Type:            nonrobust                                         \n",
       "==============================================================================\n",
       "                 coef    std err          t      P>|t|      [0.025      0.975]\n",
       "------------------------------------------------------------------------------\n",
       "const          0.0451      0.176      0.257      0.799      -0.310       0.401\n",
       "Feature 1      0.0815      0.026      3.151      0.003       0.029       0.134\n",
       "Feature 2     -0.0271      0.072     -0.374      0.711      -0.174       0.119\n",
       "Feature 3     -0.0168      0.080     -0.210      0.835      -0.179       0.146\n",
       "Feature 4     -0.0322      0.049     -0.660      0.513      -0.131       0.067\n",
       "Feature 5     -0.0571      0.092     -0.621      0.538      -0.243       0.129\n",
       "Feature 6     -0.0294      0.065     -0.455      0.652      -0.160       0.101\n",
       "Feature 7     -0.0459      0.120     -0.383      0.704      -0.289       0.197\n",
       "Feature 8     -0.0354      0.102     -0.349      0.729      -0.241       0.170\n",
       "Feature 9      0.0916      0.114      0.802      0.428      -0.140       0.323\n",
       "Feature 10     0.0345      0.047      0.728      0.471      -0.061       0.130\n",
       "Feature 11    -0.0872      0.068     -1.278      0.209      -0.225       0.051\n",
       "Feature 12     0.0014      0.062      0.022      0.982      -0.124       0.127\n",
       "Feature 13     0.0526      0.096      0.551      0.585      -0.141       0.246\n",
       "Feature 14     0.0763      0.071      1.076      0.289      -0.067       0.220\n",
       "Feature 15     0.0255      0.086      0.295      0.770      -0.150       0.201\n",
       "Feature 16     0.0530      0.090      0.591      0.558      -0.128       0.235\n",
       "Feature 17    -0.0608      0.124     -0.492      0.626      -0.311       0.190\n",
       "Feature 18     0.0091      0.139      0.065      0.948      -0.273       0.291\n",
       "Feature 19     0.0637      0.110      0.582      0.564      -0.158       0.286\n",
       "Feature 20     0.0223      0.068      0.329      0.744      -0.115       0.159\n",
       "==============================================================================\n",
       "Omnibus:                        4.137   Durbin-Watson:                   1.814\n",
       "Prob(Omnibus):                  0.126   Jarque-Bera (JB):                3.678\n",
       "Skew:                           0.612   Prob(JB):                        0.159\n",
       "Kurtosis:                       3.012   Cond. No.                         68.8\n",
       "==============================================================================\n",
       "\n",
       "Notes:\n",
       "[1] Standard Errors assume that the covariance matrix of the errors is correctly specified.\n",
       "\"\"\""
      ]
     },
     "execution_count": 14,
     "metadata": {},
     "output_type": "execute_result"
    }
   ],
   "source": [
    "est = est.fit()\n",
    "est.summary()"
   ]
  },
  {
   "cell_type": "code",
   "execution_count": 15,
   "id": "f1ef799d-cf61-4346-8070-f69ad56ef6e4",
   "metadata": {},
   "outputs": [
    {
     "data": {
      "text/plain": [
       "const         0.045132\n",
       "Feature 1     0.081454\n",
       "Feature 2    -0.027070\n",
       "Feature 3    -0.016849\n",
       "Feature 4    -0.032234\n",
       "Feature 5    -0.057070\n",
       "Feature 6    -0.029417\n",
       "Feature 7    -0.045899\n",
       "Feature 8    -0.035390\n",
       "Feature 9     0.091623\n",
       "Feature 10    0.034480\n",
       "Feature 11   -0.087165\n",
       "Feature 12    0.001377\n",
       "Feature 13    0.052614\n",
       "Feature 14    0.076304\n",
       "Feature 15    0.025514\n",
       "Feature 16    0.053018\n",
       "Feature 17   -0.060825\n",
       "Feature 18    0.009078\n",
       "Feature 19    0.063744\n",
       "Feature 20    0.022253\n",
       "dtype: float64"
      ]
     },
     "execution_count": 15,
     "metadata": {},
     "output_type": "execute_result"
    }
   ],
   "source": [
    "est.params"
   ]
  },
  {
   "cell_type": "code",
   "execution_count": null,
   "id": "7830f83b-4826-4fb4-ad1e-b70f5c1b6c27",
   "metadata": {},
   "outputs": [],
   "source": []
  }
 ],
 "metadata": {
  "kernelspec": {
   "display_name": "Python 3",
   "language": "python",
   "name": "python3"
  },
  "language_info": {
   "codemirror_mode": {
    "name": "ipython",
    "version": 3
   },
   "file_extension": ".py",
   "mimetype": "text/x-python",
   "name": "python",
   "nbconvert_exporter": "python",
   "pygments_lexer": "ipython3",
   "version": "3.8.8"
  }
 },
 "nbformat": 4,
 "nbformat_minor": 5
}

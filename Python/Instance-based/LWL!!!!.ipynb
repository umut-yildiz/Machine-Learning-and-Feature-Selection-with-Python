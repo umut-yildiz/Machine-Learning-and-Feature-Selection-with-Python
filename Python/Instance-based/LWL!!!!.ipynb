{
 "cells": [
  {
   "cell_type": "code",
   "execution_count": 1,
   "id": "07c59e84-dd72-4aa2-9c9c-3c8d15dbd330",
   "metadata": {},
   "outputs": [],
   "source": [
    "# LWL"
   ]
  },
  {
   "cell_type": "code",
   "execution_count": 2,
   "id": "963868f5-74cf-46ff-9ead-195593438ddf",
   "metadata": {},
   "outputs": [],
   "source": [
    "import numpy as np\n",
    "import matplotlib.pyplot as plt\n",
    "import pandas as pd"
   ]
  },
  {
   "cell_type": "code",
   "execution_count": 4,
   "id": "95455589-1da6-49b0-bcbe-152f4513d2c0",
   "metadata": {},
   "outputs": [],
   "source": [
    "# Data Preparation\n",
    "training = pd.read_excel (r'C:\\Users\\Yildiz\\Repos\\MATLAB\\pythonexample.xlsx')\n",
    "X = training.iloc[:,0:20]\n",
    "y = training.iloc[:,-1]"
   ]
  },
  {
   "cell_type": "code",
   "execution_count": 11,
   "id": "56b3f86e-2e44-4ffd-9d03-817d79bec11a",
   "metadata": {},
   "outputs": [],
   "source": [
    "def get_WeightMatrix_for_LOWES(query_point, Training_examples, Bandwidth):\n",
    "  # M is the No of training examples\n",
    "  M = Training_examples.shape[0]\n",
    "  # Initialising W with identity matrix\n",
    "  W = np.mat(np.eye(M))\n",
    "  # calculating weights for query points\n",
    "  for i in range(M):\n",
    "    xi = Training_examples[i]\n",
    "    denominator = (-2 * Bandwidth * Bandwidth)\n",
    "    W[i, i] = np.exp(np.dot((xi-query_point), (xi-query_point).T)/denominator)\n",
    "    return W"
   ]
  },
  {
   "cell_type": "code",
   "execution_count": 12,
   "id": "bfe8c6a9-bcfe-426d-b6a8-d44381b4ba7c",
   "metadata": {},
   "outputs": [],
   "source": [
    "def predict(training_examples, y, query_x, Bandwidth):\n",
    "  M = Training_examples.shape[0]\n",
    "  all_ones = np.ones((M, 1))\n",
    "  X_ = np.hstack((training_examples, all_ones))\n",
    "  qx = np.mat([query_x, 1])\n",
    "  W = get_WeightMatrix_for_LOWES(qx, X_, Bandwidth)\n",
    "  # calculating parameter theta\n",
    "  theta = np.linalg.pinv(X_.T*(W * X_))*(X_.T*(W * Y))\n",
    "  # calculating predictions\n",
    "  pred = np.dot(qx, theta)\n",
    "  return theta, pred"
   ]
  },
  {
   "cell_type": "code",
   "execution_count": 13,
   "id": "1b7e8ca3-fca0-409f-885e-fdfa86f3d278",
   "metadata": {},
   "outputs": [
    {
     "ename": "NameError",
     "evalue": "name 'Training_examples' is not defined",
     "output_type": "error",
     "traceback": [
      "\u001b[1;31m---------------------------------------------------------------------------\u001b[0m",
      "\u001b[1;31mNameError\u001b[0m                                 Traceback (most recent call last)",
      "\u001b[1;32m<ipython-input-13-51eb5cb7a4f0>\u001b[0m in \u001b[0;36m<module>\u001b[1;34m\u001b[0m\n\u001b[0;32m      3\u001b[0m \u001b[0mY_test\u001b[0m \u001b[1;33m=\u001b[0m \u001b[1;33m[\u001b[0m\u001b[1;33m]\u001b[0m\u001b[1;33m\u001b[0m\u001b[1;33m\u001b[0m\u001b[0m\n\u001b[0;32m      4\u001b[0m \u001b[1;32mfor\u001b[0m \u001b[0mquery\u001b[0m \u001b[1;32min\u001b[0m \u001b[0mX_test\u001b[0m\u001b[1;33m:\u001b[0m\u001b[1;33m\u001b[0m\u001b[1;33m\u001b[0m\u001b[0m\n\u001b[1;32m----> 5\u001b[1;33m   \u001b[0mtheta\u001b[0m\u001b[1;33m,\u001b[0m \u001b[0mpred\u001b[0m \u001b[1;33m=\u001b[0m \u001b[0mpredict\u001b[0m\u001b[1;33m(\u001b[0m\u001b[0mX\u001b[0m\u001b[1;33m,\u001b[0m \u001b[0my\u001b[0m\u001b[1;33m,\u001b[0m \u001b[0mquery\u001b[0m\u001b[1;33m,\u001b[0m \u001b[0mBandwidth\u001b[0m\u001b[1;33m)\u001b[0m\u001b[1;33m\u001b[0m\u001b[1;33m\u001b[0m\u001b[0m\n\u001b[0m\u001b[0;32m      6\u001b[0m   \u001b[0mY_test\u001b[0m\u001b[1;33m.\u001b[0m\u001b[0mappend\u001b[0m\u001b[1;33m(\u001b[0m\u001b[0mpred\u001b[0m\u001b[1;33m[\u001b[0m\u001b[1;36m0\u001b[0m\u001b[1;33m]\u001b[0m\u001b[1;33m[\u001b[0m\u001b[1;36m0\u001b[0m\u001b[1;33m]\u001b[0m\u001b[1;33m)\u001b[0m\u001b[1;33m\u001b[0m\u001b[1;33m\u001b[0m\u001b[0m\n\u001b[0;32m      7\u001b[0m \u001b[0mhorizontal_axis\u001b[0m \u001b[1;33m=\u001b[0m \u001b[0mnp\u001b[0m\u001b[1;33m.\u001b[0m\u001b[0marray\u001b[0m\u001b[1;33m(\u001b[0m\u001b[0mX\u001b[0m\u001b[1;33m)\u001b[0m\u001b[1;33m\u001b[0m\u001b[1;33m\u001b[0m\u001b[0m\n",
      "\u001b[1;32m<ipython-input-12-0956468e12a9>\u001b[0m in \u001b[0;36mpredict\u001b[1;34m(training_examples, y, query_x, Bandwidth)\u001b[0m\n\u001b[0;32m      1\u001b[0m \u001b[1;32mdef\u001b[0m \u001b[0mpredict\u001b[0m\u001b[1;33m(\u001b[0m\u001b[0mtraining_examples\u001b[0m\u001b[1;33m,\u001b[0m \u001b[0my\u001b[0m\u001b[1;33m,\u001b[0m \u001b[0mquery_x\u001b[0m\u001b[1;33m,\u001b[0m \u001b[0mBandwidth\u001b[0m\u001b[1;33m)\u001b[0m\u001b[1;33m:\u001b[0m\u001b[1;33m\u001b[0m\u001b[1;33m\u001b[0m\u001b[0m\n\u001b[1;32m----> 2\u001b[1;33m   \u001b[0mM\u001b[0m \u001b[1;33m=\u001b[0m \u001b[0mTraining_examples\u001b[0m\u001b[1;33m.\u001b[0m\u001b[0mshape\u001b[0m\u001b[1;33m[\u001b[0m\u001b[1;36m0\u001b[0m\u001b[1;33m]\u001b[0m\u001b[1;33m\u001b[0m\u001b[1;33m\u001b[0m\u001b[0m\n\u001b[0m\u001b[0;32m      3\u001b[0m   \u001b[0mall_ones\u001b[0m \u001b[1;33m=\u001b[0m \u001b[0mnp\u001b[0m\u001b[1;33m.\u001b[0m\u001b[0mones\u001b[0m\u001b[1;33m(\u001b[0m\u001b[1;33m(\u001b[0m\u001b[0mM\u001b[0m\u001b[1;33m,\u001b[0m \u001b[1;36m1\u001b[0m\u001b[1;33m)\u001b[0m\u001b[1;33m)\u001b[0m\u001b[1;33m\u001b[0m\u001b[1;33m\u001b[0m\u001b[0m\n\u001b[0;32m      4\u001b[0m   \u001b[0mX_\u001b[0m \u001b[1;33m=\u001b[0m \u001b[0mnp\u001b[0m\u001b[1;33m.\u001b[0m\u001b[0mhstack\u001b[0m\u001b[1;33m(\u001b[0m\u001b[1;33m(\u001b[0m\u001b[0mtraining_examples\u001b[0m\u001b[1;33m,\u001b[0m \u001b[0mall_ones\u001b[0m\u001b[1;33m)\u001b[0m\u001b[1;33m)\u001b[0m\u001b[1;33m\u001b[0m\u001b[1;33m\u001b[0m\u001b[0m\n\u001b[0;32m      5\u001b[0m   \u001b[0mqx\u001b[0m \u001b[1;33m=\u001b[0m \u001b[0mnp\u001b[0m\u001b[1;33m.\u001b[0m\u001b[0mmat\u001b[0m\u001b[1;33m(\u001b[0m\u001b[1;33m[\u001b[0m\u001b[0mquery_x\u001b[0m\u001b[1;33m,\u001b[0m \u001b[1;36m1\u001b[0m\u001b[1;33m]\u001b[0m\u001b[1;33m)\u001b[0m\u001b[1;33m\u001b[0m\u001b[1;33m\u001b[0m\u001b[0m\n",
      "\u001b[1;31mNameError\u001b[0m: name 'Training_examples' is not defined"
     ]
    }
   ],
   "source": [
    "Bandwidth = 0.1\n",
    "X_test = np.linspace(-2, 2, 20)\n",
    "Y_test = []\n",
    "for query in X_test:\n",
    "  theta, pred = predict(X, y, query, Bandwidth)\n",
    "  Y_test.append(pred[0][0])\n",
    "horizontal_axis = np.array(X)\n",
    "vertical_axis = np.array(y)\n",
    "plt.title(\"Tau / Bandwidth Param %.2f\"% Bandwidth)\n",
    "plt.scatter(horizontal_axis, vertical_axis)\n",
    "Y_test = np.array(Y_test)\n",
    "plt.scatter(X_test, Y_test, color ='red')\n",
    "plt.show()"
   ]
  },
  {
   "cell_type": "code",
   "execution_count": null,
   "id": "94f87d46-1706-4534-97c9-609ef002a146",
   "metadata": {},
   "outputs": [],
   "source": []
  }
 ],
 "metadata": {
  "kernelspec": {
   "display_name": "Python 3",
   "language": "python",
   "name": "python3"
  },
  "language_info": {
   "codemirror_mode": {
    "name": "ipython",
    "version": 3
   },
   "file_extension": ".py",
   "mimetype": "text/x-python",
   "name": "python",
   "nbconvert_exporter": "python",
   "pygments_lexer": "ipython3",
   "version": "3.8.8"
  }
 },
 "nbformat": 4,
 "nbformat_minor": 5
}
